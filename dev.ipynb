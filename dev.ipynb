{
 "cells": [
  {
   "cell_type": "code",
   "execution_count": 1,
   "id": "4ac392fc",
   "metadata": {},
   "outputs": [
    {
     "name": "stdout",
     "output_type": "stream",
     "text": [
      "✅ Project structure created successfully!\n"
     ]
    }
   ],
   "source": [
    "import os\n",
    "\n",
    "# Define project structure as a dictionary\n",
    "project_structure = {\n",
    "    \"social-media-automator\": {\n",
    "        \".github\": {\n",
    "            \"workflows\": {\n",
    "                \"post_scheduler.yml\": \"# Our GitHub Actions workflow file\\n\"\n",
    "            }\n",
    "        },\n",
    "        \"src\": {\n",
    "            \"__init__.py\": \"\",\n",
    "            \"main.py\": \"# Main script execution logic\\n\",\n",
    "            \"config.py\": \"# Handles loading secrets and configs\\n\",\n",
    "            \"data_source.py\": \"# Logic for Google Sheets\\n\",\n",
    "            \"media_handler.py\": \"# Logic for downloading media\\n\",\n",
    "            \"content_adapter.py\": \"# Logic for summarizing text (Twitter)\\n\",\n",
    "            \"social_poster.py\": \"# Classes for posting to each platform\\n\",\n",
    "        },\n",
    "        \"tests\": {\n",
    "            \"__init__.py\": \"\",\n",
    "            \"test_content_adapter.py\": \"# Example test file\\n\",\n",
    "        },\n",
    "        \".env\": \"# Local environment variables (DO NOT COMMIT)\\n\",\n",
    "        \".gitignore\": \"\",\n",
    "        \"requirements.txt\": \"# Project dependencies\\n\",\n",
    "        \"README.md\": \"\",\n",
    "    }\n",
    "}\n",
    "\n",
    "\n",
    "def create_structure(base_path, structure):\n",
    "    for name, content in structure.items():\n",
    "        path = os.path.join(base_path, name)\n",
    "\n",
    "        if isinstance(content, dict):\n",
    "            # Create directory\n",
    "            os.makedirs(path, exist_ok=True)\n",
    "            # Recursively create contents\n",
    "            create_structure(path, content)\n",
    "        else:\n",
    "            # Create file with optional content\n",
    "            with open(path, \"w\", encoding=\"utf-8\") as f:\n",
    "                f.write(content)\n",
    "\n",
    "\n",
    "if __name__ == \"__main__\":\n",
    "    base_dir = \".\"  # current directory\n",
    "    create_structure(base_dir, project_structure)\n",
    "    print(\"✅ Project structure created successfully!\")\n"
   ]
  },
  {
   "cell_type": "code",
   "execution_count": null,
   "id": "34e09cc1",
   "metadata": {},
   "outputs": [],
   "source": []
  }
 ],
 "metadata": {
  "kernelspec": {
   "display_name": "Python 3",
   "language": "python",
   "name": "python3"
  },
  "language_info": {
   "codemirror_mode": {
    "name": "ipython",
    "version": 3
   },
   "file_extension": ".py",
   "mimetype": "text/x-python",
   "name": "python",
   "nbconvert_exporter": "python",
   "pygments_lexer": "ipython3",
   "version": "3.10.11"
  }
 },
 "nbformat": 4,
 "nbformat_minor": 5
}
